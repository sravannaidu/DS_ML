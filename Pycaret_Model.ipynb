{
  "nbformat": 4,
  "nbformat_minor": 0,
  "metadata": {
    "colab": {
      "provenance": [],
      "gpuType": "T4",
      "authorship_tag": "ABX9TyOU4z050TWbpjH3/vjTEop4",
      "include_colab_link": true
    },
    "kernelspec": {
      "name": "python3",
      "display_name": "Python 3"
    },
    "language_info": {
      "name": "python"
    },
    "accelerator": "GPU"
  },
  "cells": [
    {
      "cell_type": "markdown",
      "metadata": {
        "id": "view-in-github",
        "colab_type": "text"
      },
      "source": [
        "<a href=\"https://colab.research.google.com/github/sravannaidu/GenAI/blob/main/Pycaret_Model.ipynb\" target=\"_parent\"><img src=\"https://colab.research.google.com/assets/colab-badge.svg\" alt=\"Open In Colab\"/></a>"
      ]
    },
    {
      "cell_type": "code",
      "execution_count": null,
      "metadata": {
        "id": "2fF5YJL1GosG"
      },
      "outputs": [],
      "source": [
        "import os\n",
        "import numpy as np\n",
        "import pandas as pd\n",
        "import matplotlib.pyplot as plt\n",
        "import seaborn as sns\n",
        "import warnings\n",
        "warnings.filterwarnings('ignore')"
      ]
    },
    {
      "cell_type": "code",
      "source": [
        "df = pd.read_csv(\"/content/diabetes.csv\")"
      ],
      "metadata": {
        "id": "18_DmeaBHaVG"
      },
      "execution_count": null,
      "outputs": []
    },
    {
      "cell_type": "code",
      "source": [
        "df.head()"
      ],
      "metadata": {
        "id": "lhK2IvrYHukS"
      },
      "execution_count": null,
      "outputs": []
    },
    {
      "cell_type": "code",
      "source": [
        "df.describe()"
      ],
      "metadata": {
        "id": "RztE_2bGHxB8"
      },
      "execution_count": null,
      "outputs": []
    },
    {
      "cell_type": "code",
      "source": [
        "df.shape"
      ],
      "metadata": {
        "id": "akm-R3UrH0iZ"
      },
      "execution_count": null,
      "outputs": []
    },
    {
      "cell_type": "code",
      "source": [
        "df.info()"
      ],
      "metadata": {
        "id": "robbo_qqH3_W"
      },
      "execution_count": null,
      "outputs": []
    },
    {
      "cell_type": "code",
      "source": [
        "df.columns"
      ],
      "metadata": {
        "id": "cbdbrY7sH8Sr"
      },
      "execution_count": null,
      "outputs": []
    },
    {
      "cell_type": "code",
      "source": [
        "df.isnull().sum()"
      ],
      "metadata": {
        "id": "Xvi8sU5MIChE"
      },
      "execution_count": null,
      "outputs": []
    },
    {
      "cell_type": "code",
      "source": [
        "df.duplicated().sum()"
      ],
      "metadata": {
        "id": "Wxe2cXBiIIUA"
      },
      "execution_count": null,
      "outputs": []
    },
    {
      "cell_type": "code",
      "source": [
        "#'Glucose', 'BloodPressure', 'SkinThickness', 'Insulin', 'BMI',\n",
        "df['Glucose'] = np.where(df['Glucose'] == 0, df['Glucose'].mean(), df['Glucose'])\n",
        "df['BloodPressure'] = np.where(df['BloodPressure'] == 0, df['BloodPressure'].mean(), df['BloodPressure'])\n",
        "df['SkinThickness'] = np.where(df['SkinThickness'] == 0, df['SkinThickness'].mean(), df['SkinThickness'])\n",
        "df['Insulin'] = np.where(df['Insulin'] == 0, df['Insulin'].mean(), df['Insulin'])\n",
        "df['BMI'] = np.where(df['BMI'] == 0, df['BMI'].mean(), df['BMI'])"
      ],
      "metadata": {
        "id": "7-t7IPL1IMEX"
      },
      "execution_count": null,
      "outputs": []
    },
    {
      "cell_type": "code",
      "source": [
        "df.describe()"
      ],
      "metadata": {
        "id": "CSC1n0buIgf2"
      },
      "execution_count": null,
      "outputs": []
    },
    {
      "cell_type": "code",
      "source": [
        "#!pip install dtale"
      ],
      "metadata": {
        "id": "du-B0keqI82E"
      },
      "execution_count": null,
      "outputs": []
    },
    {
      "cell_type": "code",
      "source": [
        "# import dtale\n",
        "# dtale.show(df)"
      ],
      "metadata": {
        "id": "cvx0vP1KJiBH"
      },
      "execution_count": null,
      "outputs": []
    },
    {
      "cell_type": "markdown",
      "source": [
        "**Pycaret method**"
      ],
      "metadata": {
        "id": "RhgoAGkPK3Mf"
      }
    },
    {
      "cell_type": "code",
      "source": [
        "data_train = df.sample(frac=0.8, random_state = 0).reset_index(drop = True)\n",
        "data_test = df.drop(data_train.index).reset_index(drop = True)"
      ],
      "metadata": {
        "id": "87E_PJvdK1wf"
      },
      "execution_count": null,
      "outputs": []
    },
    {
      "cell_type": "code",
      "source": [
        "#!pip install pycaret"
      ],
      "metadata": {
        "id": "P1jfHwybJ5IR"
      },
      "execution_count": null,
      "outputs": []
    },
    {
      "cell_type": "code",
      "source": [
        "data_train.shape"
      ],
      "metadata": {
        "id": "18O_jHhwKS3o"
      },
      "execution_count": null,
      "outputs": []
    },
    {
      "cell_type": "code",
      "source": [
        "data_test.shape"
      ],
      "metadata": {
        "id": "P11sHj5oMKU3"
      },
      "execution_count": null,
      "outputs": []
    },
    {
      "cell_type": "code",
      "source": [
        "from pycaret.classification import *"
      ],
      "metadata": {
        "id": "BO7I5i-KNDhv"
      },
      "execution_count": null,
      "outputs": []
    },
    {
      "cell_type": "code",
      "source": [
        "exp_classification = setup(data = data_train, target = 'Outcome', session_id = 123)"
      ],
      "metadata": {
        "id": "FXw9ULhIMN2c"
      },
      "execution_count": null,
      "outputs": []
    },
    {
      "cell_type": "code",
      "source": [
        "compare_models()"
      ],
      "metadata": {
        "id": "pnIHorYHMvg1"
      },
      "execution_count": null,
      "outputs": []
    },
    {
      "cell_type": "code",
      "source": [
        "# Create a model\n",
        "logistic_regression = create_model('lr')"
      ],
      "metadata": {
        "id": "wmxDK9IpNYKM"
      },
      "execution_count": null,
      "outputs": []
    },
    {
      "cell_type": "code",
      "source": [
        "# Fine tuning\n",
        "tuned_logistic_regression = tune_model(logistic_regression)"
      ],
      "metadata": {
        "id": "GScYJupjNkzB"
      },
      "execution_count": null,
      "outputs": []
    },
    {
      "cell_type": "code",
      "source": [
        "# Fine tuning\n",
        "tuned_logistic_regression = tune_model(logistic_regression)"
      ],
      "metadata": {
        "id": "qGN4Nsy6N5Rv"
      },
      "execution_count": null,
      "outputs": []
    },
    {
      "cell_type": "code",
      "source": [
        "# Evaluate the model\n",
        "evaluate_model(tuned_logistic_regression)"
      ],
      "metadata": {
        "id": "OwImgAv4O_KQ"
      },
      "execution_count": null,
      "outputs": []
    },
    {
      "cell_type": "code",
      "source": [
        "# predict the model\n",
        "predict_model(tuned_logistic_regression)"
      ],
      "metadata": {
        "id": "Pvf-YCctPLjk"
      },
      "execution_count": null,
      "outputs": []
    },
    {
      "cell_type": "code",
      "source": [
        "# predict on test data\n",
        "unseen_predictions = predict_model(tuned_logistic_regression, data = data_test)\n",
        "unseen_predictions.head()"
      ],
      "metadata": {
        "id": "_CnXsK3zPeKy"
      },
      "execution_count": null,
      "outputs": []
    },
    {
      "cell_type": "code",
      "source": [
        "# save model for deployment\n",
        "#save_model(tuned_logistic_regression, 'logistic_regression_model')"
      ],
      "metadata": {
        "id": "7f9t2p23Pww0"
      },
      "execution_count": null,
      "outputs": []
    },
    {
      "cell_type": "code",
      "source": [],
      "metadata": {
        "id": "-BRApBXKP992"
      },
      "execution_count": null,
      "outputs": []
    }
  ]
}
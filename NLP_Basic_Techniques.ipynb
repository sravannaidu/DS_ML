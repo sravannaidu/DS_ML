{
  "nbformat": 4,
  "nbformat_minor": 0,
  "metadata": {
    "colab": {
      "provenance": [],
      "gpuType": "T4",
      "authorship_tag": "ABX9TyPnYBP2FZxSqcU6/nOHZ/rq",
      "include_colab_link": true
    },
    "kernelspec": {
      "name": "python3",
      "display_name": "Python 3"
    },
    "language_info": {
      "name": "python"
    },
    "accelerator": "GPU"
  },
  "cells": [
    {
      "cell_type": "markdown",
      "metadata": {
        "id": "view-in-github",
        "colab_type": "text"
      },
      "source": [
        "<a href=\"https://colab.research.google.com/github/sravannaidu/GenAI/blob/main/NLP_Basic_Techniques.ipynb\" target=\"_parent\"><img src=\"https://colab.research.google.com/assets/colab-badge.svg\" alt=\"Open In Colab\"/></a>"
      ]
    },
    {
      "cell_type": "code",
      "execution_count": 4,
      "metadata": {
        "id": "sSMMfTElEzol"
      },
      "outputs": [],
      "source": [
        "# Bag of words\n",
        "from sklearn.feature_extraction.text import CountVectorizer"
      ]
    },
    {
      "cell_type": "code",
      "source": [
        "text = [\"My name is Sravan kumar\", \"This is a GenAI training batch\", \"total count 432\", \"example @#&\"]\n",
        "text"
      ],
      "metadata": {
        "colab": {
          "base_uri": "https://localhost:8080/"
        },
        "id": "DY0bpODzHbQD",
        "outputId": "c5123e35-bef7-417d-a177-31cd79cc5289"
      },
      "execution_count": 5,
      "outputs": [
        {
          "output_type": "execute_result",
          "data": {
            "text/plain": [
              "['My name is Sravan kumar',\n",
              " 'This is a GenAI training batch',\n",
              " 'total count 432',\n",
              " 'example @#&']"
            ]
          },
          "metadata": {},
          "execution_count": 5
        }
      ]
    },
    {
      "cell_type": "code",
      "source": [
        "#initialize the object\n",
        "vectorizer = CountVectorizer(binary = True)"
      ],
      "metadata": {
        "id": "hdqLNTvGIBTb"
      },
      "execution_count": 6,
      "outputs": []
    },
    {
      "cell_type": "code",
      "source": [
        "num_rep = vectorizer.fit_transform(text)"
      ],
      "metadata": {
        "id": "lMIYmJjCITuK"
      },
      "execution_count": 7,
      "outputs": []
    },
    {
      "cell_type": "code",
      "source": [
        "print(\"shape: \", num_rep.shape)\n",
        "print(\"Type of numerical representation: \", type(num_rep))\n",
        "print(\"Vocabulary learned: \", vectorizer.get_feature_names_out())"
      ],
      "metadata": {
        "colab": {
          "base_uri": "https://localhost:8080/"
        },
        "id": "IYjtHIqnIiDL",
        "outputId": "13992cc8-4d57-411c-97f0-475f0e9ff285"
      },
      "execution_count": 8,
      "outputs": [
        {
          "output_type": "stream",
          "name": "stdout",
          "text": [
            "shape:  (4, 13)\n",
            "Type of numerical representation:  <class 'scipy.sparse._csr.csr_matrix'>\n",
            "Vocabulary learned:  ['432' 'batch' 'count' 'example' 'genai' 'is' 'kumar' 'my' 'name' 'sravan'\n",
            " 'this' 'total' 'training']\n"
          ]
        }
      ]
    },
    {
      "cell_type": "code",
      "source": [
        "vectorizer.vocabulary_"
      ],
      "metadata": {
        "colab": {
          "base_uri": "https://localhost:8080/"
        },
        "id": "PBsl9tdRJGgK",
        "outputId": "382770a6-edf5-4e47-eef3-5a51c01cb1e1"
      },
      "execution_count": 9,
      "outputs": [
        {
          "output_type": "execute_result",
          "data": {
            "text/plain": [
              "{'my': 7,\n",
              " 'name': 8,\n",
              " 'is': 5,\n",
              " 'sravan': 9,\n",
              " 'kumar': 6,\n",
              " 'this': 10,\n",
              " 'genai': 4,\n",
              " 'training': 12,\n",
              " 'batch': 1,\n",
              " 'total': 11,\n",
              " 'count': 2,\n",
              " '432': 0,\n",
              " 'example': 3}"
            ]
          },
          "metadata": {},
          "execution_count": 9
        }
      ]
    },
    {
      "cell_type": "code",
      "source": [
        "print(num_rep.toarray())"
      ],
      "metadata": {
        "colab": {
          "base_uri": "https://localhost:8080/"
        },
        "id": "3ZPctX20JNUh",
        "outputId": "f31f2157-67f1-469c-b12d-eddd8ac3ef0f"
      },
      "execution_count": 12,
      "outputs": [
        {
          "output_type": "stream",
          "name": "stdout",
          "text": [
            "[[0 0 0 0 0 1 1 1 1 1 0 0 0]\n",
            " [0 1 0 0 1 1 0 0 0 0 1 0 1]\n",
            " [1 0 1 0 0 0 0 0 0 0 0 1 0]\n",
            " [0 0 0 1 0 0 0 0 0 0 0 0 0]]\n"
          ]
        }
      ]
    },
    {
      "cell_type": "code",
      "source": [
        "#N-Gram\n",
        "vectorizer = CountVectorizer(binary = True, ngram_range = (2,3))"
      ],
      "metadata": {
        "id": "fxgKehU-JXTc"
      },
      "execution_count": 20,
      "outputs": []
    },
    {
      "cell_type": "code",
      "source": [
        "num_rep = vectorizer.fit_transform(text)"
      ],
      "metadata": {
        "id": "uSYZudTNJvnj"
      },
      "execution_count": 21,
      "outputs": []
    },
    {
      "cell_type": "code",
      "source": [
        "print(\"shape: \", num_rep.shape)\n",
        "print(\"Type of numerical representation: \", type(num_rep))\n",
        "print(\"Vocabulary learned: \", vectorizer.get_feature_names_out())"
      ],
      "metadata": {
        "colab": {
          "base_uri": "https://localhost:8080/"
        },
        "id": "llVbz42KKMjX",
        "outputId": "564d591c-c4ee-4054-d0a9-e98f757ea297"
      },
      "execution_count": 22,
      "outputs": [
        {
          "output_type": "stream",
          "name": "stdout",
          "text": [
            "shape:  (4, 17)\n",
            "Type of numerical representation:  <class 'scipy.sparse._csr.csr_matrix'>\n",
            "Vocabulary learned:  ['count 432' 'genai training' 'genai training batch' 'is genai'\n",
            " 'is genai training' 'is sravan' 'is sravan kumar' 'my name' 'my name is'\n",
            " 'name is' 'name is sravan' 'sravan kumar' 'this is' 'this is genai'\n",
            " 'total count' 'total count 432' 'training batch']\n"
          ]
        }
      ]
    },
    {
      "cell_type": "code",
      "source": [
        "vectorizer.vocabulary_"
      ],
      "metadata": {
        "colab": {
          "base_uri": "https://localhost:8080/"
        },
        "id": "cikR8G_2KP1c",
        "outputId": "a21f3d4d-1c23-41b8-d269-f2d1be68c815"
      },
      "execution_count": 23,
      "outputs": [
        {
          "output_type": "execute_result",
          "data": {
            "text/plain": [
              "{'my name': 7,\n",
              " 'name is': 9,\n",
              " 'is sravan': 5,\n",
              " 'sravan kumar': 11,\n",
              " 'my name is': 8,\n",
              " 'name is sravan': 10,\n",
              " 'is sravan kumar': 6,\n",
              " 'this is': 12,\n",
              " 'is genai': 3,\n",
              " 'genai training': 1,\n",
              " 'training batch': 16,\n",
              " 'this is genai': 13,\n",
              " 'is genai training': 4,\n",
              " 'genai training batch': 2,\n",
              " 'total count': 14,\n",
              " 'count 432': 0,\n",
              " 'total count 432': 15}"
            ]
          },
          "metadata": {},
          "execution_count": 23
        }
      ]
    },
    {
      "cell_type": "code",
      "source": [
        "print(num_rep.toarray())"
      ],
      "metadata": {
        "colab": {
          "base_uri": "https://localhost:8080/"
        },
        "id": "o0rA1qPYKVXn",
        "outputId": "8f494b04-0317-4e33-cb90-12c91422b721"
      },
      "execution_count": 24,
      "outputs": [
        {
          "output_type": "stream",
          "name": "stdout",
          "text": [
            "[[0 0 0 0 0 1 1 1 1 1 1 1 0 0 0 0 0]\n",
            " [0 1 1 1 1 0 0 0 0 0 0 0 1 1 0 0 1]\n",
            " [1 0 0 0 0 0 0 0 0 0 0 0 0 0 1 1 0]\n",
            " [0 0 0 0 0 0 0 0 0 0 0 0 0 0 0 0 0]]\n"
          ]
        }
      ]
    },
    {
      "cell_type": "code",
      "source": [
        "#TF-IDF\n",
        "from sklearn.feature_extraction.text import TfidfVectorizer"
      ],
      "metadata": {
        "id": "d3mX5ICyKYag"
      },
      "execution_count": 27,
      "outputs": []
    },
    {
      "cell_type": "code",
      "source": [
        "#initialize the object\n",
        "vectorizer = TfidfVectorizer(binary = True, ngram_range=(1,2))\n",
        "num_rep = vectorizer.fit_transform(text)\n",
        "print(\"shape: \", num_rep.shape)\n",
        "print(\"Type of numerical representation: \", type(num_rep))\n",
        "print(\"Vocabulary learned: \", vectorizer.get_feature_names_out())"
      ],
      "metadata": {
        "colab": {
          "base_uri": "https://localhost:8080/"
        },
        "id": "xh_dPIuIKswj",
        "outputId": "5ace1b6f-a839-40ae-fd80-11e1e27d0972"
      },
      "execution_count": 32,
      "outputs": [
        {
          "output_type": "stream",
          "name": "stdout",
          "text": [
            "shape:  (4, 23)\n",
            "Type of numerical representation:  <class 'scipy.sparse._csr.csr_matrix'>\n",
            "Vocabulary learned:  ['432' 'batch' 'count' 'count 432' 'example' 'genai' 'genai training' 'is'\n",
            " 'is genai' 'is sravan' 'kumar' 'my' 'my name' 'name' 'name is' 'sravan'\n",
            " 'sravan kumar' 'this' 'this is' 'total' 'total count' 'training'\n",
            " 'training batch']\n"
          ]
        }
      ]
    },
    {
      "cell_type": "code",
      "source": [
        "print(num_rep.toarray())"
      ],
      "metadata": {
        "colab": {
          "base_uri": "https://localhost:8080/"
        },
        "id": "TW6KTPMILCDg",
        "outputId": "63acb13f-6c24-4542-c812-d8b749f508e3"
      },
      "execution_count": 33,
      "outputs": [
        {
          "output_type": "stream",
          "name": "stdout",
          "text": [
            "[[0.         0.         0.         0.         0.         0.\n",
            "  0.         0.26850921 0.         0.34056989 0.34056989 0.34056989\n",
            "  0.34056989 0.34056989 0.34056989 0.34056989 0.34056989 0.\n",
            "  0.         0.         0.         0.         0.        ]\n",
            " [0.         0.34056989 0.         0.         0.         0.34056989\n",
            "  0.34056989 0.26850921 0.34056989 0.         0.         0.\n",
            "  0.         0.         0.         0.         0.         0.34056989\n",
            "  0.34056989 0.         0.         0.34056989 0.34056989]\n",
            " [0.4472136  0.         0.4472136  0.4472136  0.         0.\n",
            "  0.         0.         0.         0.         0.         0.\n",
            "  0.         0.         0.         0.         0.         0.\n",
            "  0.         0.4472136  0.4472136  0.         0.        ]\n",
            " [0.         0.         0.         0.         1.         0.\n",
            "  0.         0.         0.         0.         0.         0.\n",
            "  0.         0.         0.         0.         0.         0.\n",
            "  0.         0.         0.         0.         0.        ]]\n"
          ]
        }
      ]
    },
    {
      "cell_type": "code",
      "source": [],
      "metadata": {
        "id": "sy95BJATLIBO"
      },
      "execution_count": 33,
      "outputs": []
    }
  ]
}